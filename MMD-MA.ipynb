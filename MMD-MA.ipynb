{
 "cells": [
  {
   "cell_type": "code",
   "execution_count": 19,
   "metadata": {},
   "outputs": [],
   "source": [
    "import tensorflow as tf\n",
    "import numpy as np\n",
    "import pandas as pd\n",
    "import warnings\n",
    "warnings.filterwarnings('ignore')"
   ]
  },
  {
   "cell_type": "code",
   "execution_count": 3,
   "metadata": {},
   "outputs": [],
   "source": [
    "# Following code is referred from: \n",
    "# https://bitbucket.org/noblelab/2019_mmd_wabi/src/master/manifoldAlignDistortionPen_mmd_multipleStarts.py\n",
    "\n",
    "def compute_pairwise_distances(x, y):\n",
    "  \n",
    "  if not len(x.get_shape()) == len(y.get_shape()) == 2:\n",
    "    raise ValueError('Both inputs should be matrices.')\n",
    "\n",
    "  if x.get_shape().as_list()[1] != y.get_shape().as_list()[1]:\n",
    "    raise ValueError('The number of features should be the same.')\n",
    "\n",
    "  norm = lambda x: tf.reduce_sum(tf.square(x), 1)\n",
    "\n",
    "  return tf.transpose(norm(tf.expand_dims(x, 2) - tf.transpose(y)))\n"
   ]
  },
  {
   "cell_type": "code",
   "execution_count": 4,
   "metadata": {},
   "outputs": [],
   "source": [
    "def gaussian_kernel_matrix(x, y, sigmas):\n",
    "  \"\"\"Computes a Guassian Radial Basis Kernel between the samples of x and y.\n",
    "  We create a sum of multiple gaussian kernels each having a width sigma_i.\n",
    "  Args:\n",
    "    x: a tensor of shape [num_samples, num_features]\n",
    "    y: a tensor of shape [num_samples, num_features]\n",
    "    sigmas: a tensor of floats which denote the widths of each of the\n",
    "      gaussians in the kernel.\n",
    "  Returns:\n",
    "    A tensor of shape [num_samples{x}, num_samples{y}] with the RBF kernel.\n",
    "  \"\"\"\n",
    "  beta = 1. / (2. * (tf.expand_dims(sigmas, 1)))\n",
    "\n",
    "  dist = compute_pairwise_distances(x, y)\n",
    "\n",
    "  s = tf.matmul(beta, tf.reshape(dist, (1, -1)))\n",
    "\n",
    "  return tf.reshape(tf.reduce_sum(tf.exp(-s), 0), tf.shape(dist))"
   ]
  },
  {
   "cell_type": "code",
   "execution_count": 5,
   "metadata": {},
   "outputs": [],
   "source": [
    "def maximum_mean_discrepancy(x, y, kernel=gaussian_kernel_matrix, bandwidth=1.0):\n",
    "  \"\"\"Computes the Maximum Mean Discrepancy (MMD) of two samples: x and y.\n",
    "  Maximum Mean Discrepancy (MMD) is a distance-measure between the samples of\n",
    "  the distributions of x and y. Here we use the kernel two sample estimate\n",
    "  using the empirical mean of the two distributions.\n",
    "  MMD^2(P, Q) = || \\E{\\phi(x)} - \\E{\\phi(y)} ||^2\n",
    "              = \\E{ K(x, x) } + \\E{ K(y, y) } - 2 \\E{ K(x, y) },\n",
    "  where K = <\\phi(x), \\phi(y)>,\n",
    "    is the desired kernel function, in this case a radial basis kernel.\n",
    "  Args:\n",
    "      x: a tensor of shape [num_samples, num_features]\n",
    "      y: a tensor of shape [num_samples, num_features]\n",
    "      kernel: a function which computes the kernel in MMD. Defaults to the\n",
    "              GaussianKernelMatrix.\n",
    "  Returns:\n",
    "      a scalar denoting the squared maximum mean discrepancy loss.\n",
    "  \"\"\"\n",
    "  with tf.name_scope('MaximumMeanDiscrepancy'):\n",
    "    # \\E{ K(x, x) } + \\E{ K(y, y) } - 2 \\E{ K(x, y) }\n",
    "    cost = tf.reduce_mean(kernel(x, x, tf.constant([bandwidth])))\n",
    "    cost += tf.reduce_mean(kernel(y, y, tf.constant([bandwidth])))\n",
    "    cost -= 2 * tf.reduce_mean(kernel(x, y, tf.constant([bandwidth])))\n",
    "\n",
    "    # We do not allow the loss to become negative.\n",
    "    cost = tf.where(cost > 0, cost, 0, name='value')\n",
    "  return cost"
   ]
  },
  {
   "cell_type": "code",
   "execution_count": 39,
   "metadata": {},
   "outputs": [],
   "source": [
    "f1='GSE126074_CellLineMixture_SNAREseq_cDNA_counts.tsv'\n",
    "f2='GSE126074_CellLineMixture_SNAREseq_chromatin_counts.tsv'\n",
    "\n",
    "tradeoff2 = 0.01\n",
    "tradeoff3 = 0.001\n",
    "p=2\n",
    "bandwidth = 1.0\n",
    "training_rate = 0.00005\n",
    "k = 0\n",
    "\n",
    "df=pd.read_csv(f1,sep='\\t')\n",
    "temp=np.array(df)\n",
    "from sklearn.metrics.pairwise import cosine_similarity\n",
    "k1_matrix =cosine_similarity(temp.T, Y=None, dense_output=True)\n",
    "\n",
    "df=pd.read_csv(f2,sep='\\t')\n",
    "temp=np.array(df)\n",
    "from sklearn.metrics.pairwise import cosine_similarity\n",
    "k2_matrix =cosine_similarity(temp.T, Y=None, dense_output=True)"
   ]
  },
  {
   "cell_type": "code",
   "execution_count": 40,
   "metadata": {},
   "outputs": [],
   "source": [
    "I_p=tf.eye(p)\n",
    "record = open('loss.txt', 'w')\n",
    "n1 = k1_matrix.shape[0]\n",
    "n2 = k2_matrix.shape[0]\n",
    "K1 = tf.constant(k1_matrix, dtype=tf.float32)\n",
    "K2 = tf.constant(k2_matrix, dtype=tf.float32)\n",
    "alpha = tf.Variable(tf.random.uniform([n1,p],minval=0.0,maxval=0.1,seed=k))\n",
    "beta = tf.Variable(tf.random.uniform([n2,p],minval=0.0,maxval=0.1,seed=k))\n",
    "\n"
   ]
  },
  {
   "cell_type": "code",
   "execution_count": 42,
   "metadata": {},
   "outputs": [],
   "source": [
    "# myFunction = tradeoff1*maximum_mean_discrepancy(tf.matmul(K1,alpha), tf.matmul(K2,beta)) + tradeoff2*(tf.norm(tf.subtract(tf.matmul(tf.transpose(alpha),tf.matmul(K1,alpha)),I_p),ord=2) + tf.norm(tf.subtract(tf.matmul(tf.transpose(beta),tf.matmul(K2,beta)),I_p),ord=2)) + tradeoff3*(tf.norm(tf.subtract(tf.matmul(tf.matmul(K1,alpha),tf.matmul(tf.transpose(alpha),tf.transpose(K1))),K1),ord=2)+tf.norm(tf.subtract(tf.matmul(tf.matmul(K2,beta),tf.matmul(tf.transpose(beta),tf.transpose(K2))),K2),ord=2))\n",
    "mmd_part = maximum_mean_discrepancy(tf.matmul(K1,alpha), tf.matmul(K2,beta), bandwidth=bandwidth)\n",
    "penalty_part = tradeoff2*(tf.norm(tf.subtract(tf.matmul(tf.transpose(alpha),tf.matmul(K1,alpha)),I_p),ord=2) + tf.norm(tf.subtract(tf.matmul(tf.transpose(beta),tf.matmul(K2,beta)),I_p),ord=2))\n",
    "distortion_part = tradeoff3*(tf.norm(tf.subtract(tf.matmul(tf.matmul(K1,alpha),tf.matmul(tf.transpose(alpha),tf.transpose(K1))),K1),ord=2)+tf.norm(tf.subtract(tf.matmul(tf.matmul(K2,beta),tf.matmul(tf.transpose(beta),tf.transpose(K2))),K2),ord=2))\n",
    "myFunction = mmd_part + penalty_part + distortion_part\n",
    "train_step =  tf.train.AdamOptimizer(training_rate).minimize(myFunction)\n",
    "\n"
   ]
  },
  {
   "cell_type": "code",
   "execution_count": 45,
   "metadata": {},
   "outputs": [
    {
     "name": "stdout",
     "output_type": "stream",
     "text": [
      "553.7724\n",
      "0.19704302\n",
      "0.18665096\n",
      "0.17155461\n",
      "0.15979752\n",
      "0.15446323\n"
     ]
    }
   ],
   "source": [
    "init = tf.global_variables_initializer()\n",
    "sess = tf.Session()\n",
    "sess.run(init)\n",
    "for i in range(10001):\n",
    "  sess.run(train_step)\n",
    "  if (i%2000==0): \n",
    "    np.savetxt(\"C:/Users/sumee/Desktop/ml in bio/final exam/alpha beta files/alpha_hat_\"+str(k)+\"_\"+str(i)+\".txt\", sess.run(alpha))\n",
    "    np.savetxt(\"C:/Users/sumee/Desktop/ml in bio/final exam/alpha beta files/beta_hat_\"+str(k)+\"_\"+str(i)+\".txt\", sess.run(beta))\n",
    "    rec = '\\t'.join([str(k), str(i), str(sess.run(myFunction)), str(sess.run(mmd_part)), str(sess.run(penalty_part)), str(sess.run(distortion_part))])  \n",
    "    record.write(rec + '\\n')\n",
    "    #print i\n",
    "    print(sess.run(myFunction))"
   ]
  },
  {
   "cell_type": "code",
   "execution_count": 4,
   "metadata": {},
   "outputs": [],
   "source": [
    "f1='GSE126074_CellLineMixture_SNAREseq_cDNA_counts.tsv'\n",
    "f2='GSE126074_CellLineMixture_SNAREseq_chromatin_counts.tsv'\n",
    "f=open('C:/Users/sumee/Desktop/ml in bio/final exam/alpha beta files/alpha_hat_0_10000.txt','r')\n",
    "mmd=[]\n",
    "for l in f:\n",
    "    mmd.append([float(l.split(' ')[0]),float(l.split(' ')[1])])\n",
    "mmd=np.array(mmd)   \n",
    "df=pd.read_csv(f1,sep='\\t')\n",
    "temp=np.array(df)\n",
    "rna_points=temp@mmd\n",
    "rna_points=np.array(rna_points)\n",
    "\n",
    "f=open('C:/Users/sumee/Desktop/ml in bio/final exam/alpha beta files/beta_hat_0_10000.txt','r')\n",
    "mmd=[]\n",
    "for l in f:\n",
    "    mmd.append([float(l.split(' ')[0]),float(l.split(' ')[1])])\n",
    "mmd=np.array(mmd)   \n",
    "df=pd.read_csv(f2,sep='\\t')\n",
    "temp=np.array(df)\n",
    "atac_points=temp@mmd\n",
    "atac_points=np.array(atac_points)"
   ]
  },
  {
   "cell_type": "code",
   "execution_count": 5,
   "metadata": {},
   "outputs": [
    {
     "data": {
      "text/plain": [
       "(18666, 2)"
      ]
     },
     "execution_count": 5,
     "metadata": {},
     "output_type": "execute_result"
    }
   ],
   "source": [
    "rna_points.shape"
   ]
  },
  {
   "cell_type": "code",
   "execution_count": 6,
   "metadata": {},
   "outputs": [
    {
     "data": {
      "text/plain": [
       "(136771, 2)"
      ]
     },
     "execution_count": 6,
     "metadata": {},
     "output_type": "execute_result"
    }
   ],
   "source": [
    "atac_points.shape"
   ]
  },
  {
   "cell_type": "code",
   "execution_count": 16,
   "metadata": {},
   "outputs": [],
   "source": [
    "x=[i[0] for i in atac_points]\n",
    "y=[i[1] for i in atac_points]"
   ]
  },
  {
   "cell_type": "code",
   "execution_count": 17,
   "metadata": {},
   "outputs": [
    {
     "data": {
      "image/png": "[encoded data removed]",
      "text/plain": [
       "<Figure size 432x288 with 1 Axes>"
      ]
     },
     "metadata": {
      "needs_background": "light"
     },
     "output_type": "display_data"
    }
   ],
   "source": [
    "import  matplotlib.pyplot as plt\n",
    "plt.scatter(x,y)\n",
    "plt.title('MMD-MA Result for scATAC-seq Data')\n",
    "plt.savefig('atac mmd-ma.png')"
   ]
  },
  {
   "cell_type": "code",
   "execution_count": 18,
   "metadata": {},
   "outputs": [
    {
     "data": {
      "image/png": "[encoded data removed]",
      "text/plain": [
       "<Figure size 432x288 with 1 Axes>"
      ]
     },
     "metadata": {
      "needs_background": "light"
     },
     "output_type": "display_data"
    }
   ],
   "source": [
    "x=[i[0] for i in rna_points]\n",
    "y=[i[1] for i in rna_points]\n",
    "import  matplotlib.pyplot as plt\n",
    "plt.scatter(x,y)\n",
    "plt.title('MMD-MA Result for scRNA-seq Data')\n",
    "plt.savefig('rna mmd-ma.png')"
   ]
  }
 ],
 "metadata": {
  "kernelspec": {
   "display_name": "Python 3",
   "language": "python",
   "name": "python3"
  },
  "language_info": {
   "codemirror_mode": {
    "name": "ipython",
    "version": 3
   },
   "file_extension": ".py",
   "mimetype": "text/x-python",
   "name": "python",
   "nbconvert_exporter": "python",
   "pygments_lexer": "ipython3",
   "version": "3.7.4"
  }
 },
 "nbformat": 4,
 "nbformat_minor": 2
}
